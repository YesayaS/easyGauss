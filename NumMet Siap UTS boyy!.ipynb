{
 "cells": [
  {
   "cell_type": "markdown",
   "metadata": {},
   "source": [
    "<b><h1> Gauss Elimination</h1> </b> "
   ]
  },
  {
   "cell_type": "code",
   "execution_count": 10,
   "metadata": {
    "scrolled": true
   },
   "outputs": [
    {
     "name": "stdout",
     "output_type": "stream",
     "text": [
      "[[            nan             nan             nan             nan\n",
      "              nan             nan             nan]\n",
      " [            nan             nan             nan             nan\n",
      "              nan             nan             nan]\n",
      " [ 0.00000000e+00 -9.72965405e-17  1.00000000e+00  0.00000000e+00\n",
      "  -2.11471052e-17  0.00000000e+00  3.00000000e+00]\n",
      " [ 0.00000000e+00 -6.94975289e-19  0.00000000e+00  1.00000000e+00\n",
      "  -2.46716228e-17  0.00000000e+00  4.00000000e+00]\n",
      " [-0.00000000e+00 -5.42080726e-17 -0.00000000e+00 -0.00000000e+00\n",
      "   1.00000000e+00 -0.00000000e+00  2.00000000e+00]\n",
      " [ 0.00000000e+00 -6.94975289e-18  0.00000000e+00  0.00000000e+00\n",
      "   1.25757433e-17  1.00000000e+00 -1.00000000e+00]]\n"
     ]
    },
    {
     "name": "stderr",
     "output_type": "stream",
     "text": [
      "c:\\users\\acer\\anaconda3\\envs\\tf-gpu\\lib\\site-packages\\ipykernel_launcher.py:27: RuntimeWarning: divide by zero encountered in double_scalars\n",
      "c:\\users\\acer\\anaconda3\\envs\\tf-gpu\\lib\\site-packages\\ipykernel_launcher.py:28: RuntimeWarning: invalid value encountered in multiply\n"
     ]
    }
   ],
   "source": [
    "#Gauss Elimination :\n",
    "import numpy as np\n",
    "# A =  [Persamaan 1 ], [persamaan 2] , [ Persamaan 3]\n",
    "# b = [Jawaban1 , jawaban2 , jawaban3]\n",
    "\n",
    "A = np.array([[1, 1, -2, 1, 3, -1], [2, -1, 1, 2, 1, -3], [1, 3, -3, -1, 2, 1], [5, 2, -1, -1, 2, 1], [-3, -1, 2, 3, 1, 3], [4, 3, 1, -6, -3, -2]], dtype='float')\n",
    "b = np.array([4, 20, -15, -3, 16, -27])\n",
    "\n",
    "Ab = np.hstack([A, b.reshape(-1, 1)])\n",
    "\n",
    "n = len(b)\n",
    "\n",
    "for i in range(n):\n",
    "    a = Ab[i]\n",
    "\n",
    "    for j in range(i + 1, n):\n",
    "        b = Ab[j]\n",
    "        m = a[i] / b[i]\n",
    "        Ab[j] = a - m * b\n",
    "\n",
    "for i in range(n - 1, -1, -1):\n",
    "    Ab[i] = Ab[i] / Ab[i, i]\n",
    "    a = Ab[i]\n",
    "\n",
    "    for j in range(i - 1, -1, -1):\n",
    "        b = Ab[j]\n",
    "        m = a[i] / b[i]\n",
    "        Ab[j] = a - m * b\n",
    "\n",
    "x = Ab[:, :]\n",
    "# [ [x1 x2 x3 jawaban]\n",
    "print(x)"
   ]
  },
  {
   "cell_type": "markdown",
   "metadata": {},
   "source": [
    "<b><h1> LU Decompostition Pivot</h1> </b> "
   ]
  },
  {
   "cell_type": "code",
   "execution_count": 2,
   "metadata": {
    "scrolled": false
   },
   "outputs": [
    {
     "name": "stdout",
     "output_type": "stream",
     "text": [
      "A:\n",
      "array([[ 4, -2,  1],\n",
      "       [-2,  4, -2],\n",
      "       [ 1, -2,  4]])\n",
      "P:\n",
      "array([[1., 0., 0.],\n",
      "       [0., 1., 0.],\n",
      "       [0., 0., 1.]])\n",
      "L:\n",
      "array([[ 1.  ,  0.  ,  0.  ],\n",
      "       [-0.5 ,  1.  ,  0.  ],\n",
      "       [ 0.25, -0.5 ,  1.  ]])\n",
      "U:\n",
      "array([[ 4. , -2. ,  1. ],\n",
      "       [ 0. ,  3. , -1.5],\n",
      "       [ 0. ,  0. ,  3. ]])\n",
      "[[ 4. -2.  1.]\n",
      " [-2.  4. -2.]\n",
      " [ 1. -2.  4.]]\n"
     ]
    }
   ],
   "source": [
    "# LU Decompostition Method\n",
    "import pprint\n",
    "import scipy\n",
    "import scipy.linalg   # SciPy Linear Algebra Library\n",
    "\n",
    "#UBAH DISINI\n",
    "#LU with pivoting, hasilnya mestinya sama aja \n",
    "A = scipy.array([ [4, -2, 1], [-2, 4, -2], [1, -2, 4] ])\n",
    "P, L, U = scipy.linalg.lu(A)\n",
    "\n",
    "print (\"A:\")\n",
    "pprint.pprint(A)\n",
    "\n",
    "print (\"P:\")\n",
    "pprint.pprint(P)\n",
    "\n",
    "print (\"L:\")\n",
    "pprint.pprint(L)\n",
    "\n",
    "print (\"U:\")\n",
    "pprint.pprint(U)\n",
    "\n",
    "print(np.matmul(L,U))"
   ]
  },
  {
   "cell_type": "markdown",
   "metadata": {},
   "source": [
    "<b><h1> Gauss - Seidel iterative method </h1> </b> "
   ]
  },
  {
   "cell_type": "code",
   "execution_count": 1,
   "metadata": {},
   "outputs": [
    {
     "name": "stdout",
     "output_type": "stream",
     "text": [
      "x[1] =    nan --- Error: nan %\n",
      "x[2] =    inf --- Error: nan %\n",
      "x[3] =   -inf --- Error: nan %\n",
      "x[4] =    nan --- Error: nan %\n",
      "Iteration =  676\n"
     ]
    },
    {
     "name": "stderr",
     "output_type": "stream",
     "text": [
      "c:\\users\\acer\\anaconda3\\envs\\tf-gpu\\lib\\site-packages\\ipykernel_launcher.py:16: RuntimeWarning: invalid value encountered in true_divide\n",
      "  app.launch_new_instance()\n"
     ]
    }
   ],
   "source": [
    "# Gauss-Seidel iterative Method\n",
    "import numpy as np\n",
    "\n",
    "def Gauss_Seidel(A, b, error_s):\n",
    "\t[m, n] = np.shape(A)\n",
    "\n",
    "\tU = np.triu(A, 1)\n",
    "\tL = np.tril(A)\n",
    "\titeration = 0 \n",
    "\tx = np.ones((m,1))\n",
    "\terr = np.ones((m,1))*100\n",
    "\n",
    "\twhile np.max(err) > error_s:\n",
    "\n",
    "\t\txn = np.dot(np.linalg.inv(L), (b - np.dot(U, x)))\n",
    "\t\terr = abs((xn - x)/xn)*100\n",
    "\t\tx = xn\n",
    "\t\titeration = iteration + 1 \n",
    "\n",
    "\tfor i in range(0, m):\n",
    "\t\tprint ('x[%0.0f] = %6.4f --- Error: %0.4f %%' % (i+1, x[i], err[i]))\n",
    "\treturn(iteration)\n",
    "\n",
    "\n",
    "# A nya matrix 3x3\n",
    "# b nya jawabannya\n",
    "# UBAH DISINI\n",
    "A = np.array(np.mat('1, 2, 5, 1 ; 3, -4, 3, -2 ; 4, 3, 2, -1 ; 1, -2, -4, -1'))\n",
    "\t\t\t\t     \t\n",
    "b = np.array(np.mat('4 ; 7 ; 1 ; 2'));\n",
    "\n",
    "# Approximate % error stop criterion\n",
    "error_s = 10\n",
    "\n",
    "a = Gauss_Seidel(A, b, error_s)\n",
    "print(\"Iteration = \",a)"
   ]
  },
  {
   "cell_type": "markdown",
   "metadata": {},
   "source": [
    "<b><h1> Lagrange Interpolation</h1> </b> "
   ]
  },
  {
   "cell_type": "code",
   "execution_count": 6,
   "metadata": {},
   "outputs": [
    {
     "name": "stdout",
     "output_type": "stream",
     "text": [
      "coefficients [7.0, -8.000000000000002, 5.000000000000001]\n",
      "7 - 8 * X + 5 * X**2\n",
      "3.999999999999999\n"
     ]
    }
   ],
   "source": [
    "import numpy as np\n",
    "from pypoly import Polynomial\n",
    "\n",
    "def chunkIt(seq, num):\n",
    "    avg = len(seq) / float(num)\n",
    "    out = []\n",
    "    last = 0.0\n",
    "    while last < len(seq):\n",
    "        out.append(seq[int(last):int(last + avg)])\n",
    "        last += avg\n",
    "    return out\n",
    "\n",
    "def product(list):\n",
    "    p = 1\n",
    "    for i in list:\n",
    "        p *= i\n",
    "    return p\n",
    "\n",
    "def Lagrange(x,X):\n",
    "    T = np.zeros((2,len(X)))\n",
    "    list = []\n",
    "    for i in range(len(X)):\n",
    "        for j in range(len(X)):\n",
    "            if i != j:\n",
    "                list.append((x-X[j][0])/(X[i][0]-X[j][0]))\n",
    "    p = []\n",
    "    for i in chunkIt(list,len(X)):\n",
    "        p.append(product(i))\n",
    "    for i in range(len(X)):\n",
    "        T[0][i] = p[i]\n",
    "        T[1][i] = X[i][1]\n",
    "\n",
    "    list2 = []\n",
    "    for i in range(len(X)):\n",
    "        list2.append(T[0][i]*T[1][i])\n",
    "    return sum(list2)\n",
    "# Input \n",
    "# x kecil buat mau dicari nilai brpa ( misal soalnya tau ln1 sama ln2 , disuru cari ln3 berarti x kecil = 3)\n",
    "# X gede [x,y]\n",
    "#Change HERE\n",
    "x, X = 1, [[0,7],[2,11],[3,28]]\n",
    "\n",
    "order = len(X)\n",
    "equations = np.array([[point[0] ** i for i in range(order)] for point in X])\n",
    "values = np.array([point[1] for point in X])\n",
    "coefficients = np.linalg.solve(equations, values)\n",
    "print ('coefficients', list(coefficients))\n",
    "p = Polynomial(*coefficients)\n",
    "\n",
    "print(p)\n",
    "# p hasilnya , p(x) fungsi hasil interpolasi nya\n",
    "print(p(x))\n",
    "#print(Lagrange(x,X)) --> sama aja kyk p mestinya"
   ]
  },
  {
   "cell_type": "code",
   "execution_count": 5,
   "metadata": {},
   "outputs": [
    {
     "name": "stdout",
     "output_type": "stream",
     "text": [
      "coefficients [-5.7864682274247485, 1.0064117766291667, 1.0479198337893987, 0.008589236850107386]\n",
      "-5.78647 + 1.00641 * X + 1.04792 * X**2 + 0.00858924 * X**3\n",
      "-5.020208726056552\n"
     ]
    }
   ],
   "source": [
    "import numpy as np\n",
    "from pypoly import Polynomial\n",
    "\n",
    "def chunkIt(seq, num):\n",
    "    avg = len(seq) / float(num)\n",
    "    out = []\n",
    "    last = 0.0\n",
    "    while last < len(seq):\n",
    "        out.append(seq[int(last):int(last + avg)])\n",
    "        last += avg\n",
    "    return out\n",
    "\n",
    "def product(list):\n",
    "    p = 1\n",
    "    for i in list:\n",
    "        p *= i\n",
    "    return p\n",
    "\n",
    "def Lagrange(x,X):\n",
    "    T = np.zeros((2,len(X)))\n",
    "    list = []\n",
    "    for i in range(len(X)):\n",
    "        for j in range(len(X)):\n",
    "            if i != j:\n",
    "                list.append((x-X[j][0])/(X[i][0]-X[j][0]))\n",
    "    p = []\n",
    "    for i in chunkIt(list,len(X)):\n",
    "        p.append(product(i))\n",
    "    for i in range(len(X)):\n",
    "        T[0][i] = p[i]\n",
    "        T[1][i] = X[i][1]\n",
    "\n",
    "    list2 = []\n",
    "    for i in range(len(X)):\n",
    "        list2.append(T[0][i]*T[1][i])\n",
    "    return sum(list2)\n",
    "# Input \n",
    "# x kecil buat mau dicari nilai brpa ( misal soalnya tau ln1 sama ln2 , disuru cari ln3 berarti x kecil = 3)\n",
    "# X gede [x,y]\n",
    "#Change HERE\n",
    "x, X = 0.5, [[-1.2, -5.5],[0.3, -5.39],[1.1, -3.4],[1.4, -2.3]]\n",
    "\n",
    "order = len(X)\n",
    "equations = np.array([[point[0] ** i for i in range(order)] for point in X])\n",
    "values = np.array([point[1] for point in X])\n",
    "coefficients = np.linalg.solve(equations, values)\n",
    "print ('coefficients', list(coefficients))\n",
    "p = Polynomial(*coefficients)\n",
    "\n",
    "print(p)\n",
    "# p hasilnya , p(x) fungsi hasil interpolasi nya\n",
    "print(p(x))\n",
    "#print(Lagrange(x,X)) --> sama aja kyk p mestinya"
   ]
  },
  {
   "cell_type": "markdown",
   "metadata": {},
   "source": [
    "<b><h1> Newton’s Raphson Method</h1> </b> "
   ]
  },
  {
   "cell_type": "code",
   "execution_count": 13,
   "metadata": {},
   "outputs": [
    {
     "name": "stdout",
     "output_type": "stream",
     "text": [
      "The value of the root is :  -5.1003\n"
     ]
    }
   ],
   "source": [
    "# Python3 code for implementation of Newton \n",
    "# Raphson Method for solving equations \n",
    "\n",
    "# An example function whose solution \n",
    "# is determined using Bisection Method. \n",
    "# The function is x **2 - 7*x -7\n",
    "\n",
    "def func( x ): \n",
    "    \n",
    "    #CHANGE HERE\n",
    "\treturn x **3 - 2*x**2 + 3*x + 200\n",
    "\n",
    "# Derivative of the above function \n",
    "# which is 3*x^x - 2*x \n",
    "def derivFunc( x ): \n",
    "    \n",
    "    #MANNUAL DERIVATIVE THEN TYPE HERE\n",
    "\treturn 3*x**2 - 4*x + 3\n",
    "\n",
    "# Function to find the root \n",
    "def newtonRaphson( x ): \n",
    "\th = func(x) / derivFunc(x) \n",
    "\twhile abs(h) >= 0.0001: \n",
    "\t\th = func(x)/derivFunc(x) \n",
    "\t\t\n",
    "\t\t# x(i+1) = x(i) - f(x) / f'(x) \n",
    "\t\tx = x - h \n",
    "\t\n",
    "\tprint(\"The value of the root is : \", \n",
    "\t\t\t\t\t\t\t\"%.4f\"% x) \n",
    "\n",
    "# Driver program to test above \n",
    "x0 = -20 # Initial values assumed \n",
    "newtonRaphson(x0) \n",
    "\n",
    "# This code is contributed by \"Sharad_Bhardwaj\" "
   ]
  },
  {
   "cell_type": "code",
   "execution_count": 10,
   "metadata": {},
   "outputs": [
    {
     "name": "stdout",
     "output_type": "stream",
     "text": [
      "The value of the root is :  3.2190\n"
     ]
    }
   ],
   "source": [
    "# Python3 code for implementation of Newton \n",
    "# Raphson Method for solving equations \n",
    "\n",
    "# An example function whose solution \n",
    "# is determined using Bisection Method. \n",
    "# The function is x **2 - 7*x -7\n",
    "\n",
    "def func( x ): \n",
    "    \n",
    "    #CHANGE HERE\n",
    "\treturn x**5 - 4*x**4 + 2*x**3 + x**2 - x + 10\n",
    "\n",
    "# Derivative of the above function \n",
    "# which is 3*x^x - 2*x \n",
    "def derivFunc( x ): \n",
    "    \n",
    "    #MANNUAL DERIVATIVE THEN TYPE HERE\n",
    "\treturn 5*x**4 - 16*x**3 + 6*x**2 + 2*x - 1\n",
    "\n",
    "# Function to find the root \n",
    "def newtonRaphson( x ): \n",
    "\th = func(x) / derivFunc(x) \n",
    "\twhile abs(h) >= 0.0001: \n",
    "\t\th = func(x)/derivFunc(x) \n",
    "\t\t\n",
    "\t\t# x(i+1) = x(i) - f(x) / f'(x) \n",
    "\t\tx = x - h \n",
    "\t\n",
    "\tprint(\"The value of the root is : \", \n",
    "\t\t\t\t\t\t\t\"%.4f\"% x) \n",
    "\n",
    "# Driver program to test above \n",
    "x0 = 1 # Initial values assumed \n",
    "newtonRaphson(x0) "
   ]
  },
  {
   "cell_type": "markdown",
   "metadata": {},
   "source": [
    "<b><h1> Bisection Method</h1> </b> "
   ]
  },
  {
   "cell_type": "code",
   "execution_count": 2,
   "metadata": {},
   "outputs": [
    {
     "name": "stdout",
     "output_type": "stream",
     "text": [
      "the final result is =  2.6875\n"
     ]
    }
   ],
   "source": [
    "def bisection(f,a,b,N):\n",
    "    '''Approximate solution of f(x)=0 on interval [a,b] by the bisection method.\n",
    "\n",
    "    Parameters\n",
    "    ----------\n",
    "    f : function\n",
    "        The function for which we are trying to approximate a solution f(x)=0.\n",
    "    a,b : numbers\n",
    "        The interval in which to search for a solution. The function returns\n",
    "        None if f(a)*f(b) >= 0 since a solution is not guaranteed.\n",
    "    N : (positive) integer\n",
    "        The number of iterations to implement.\n",
    "\n",
    "    Returns\n",
    "    -------\n",
    "    x_N : number\n",
    "        The midpoint of the Nth interval computed by the bisection method. The\n",
    "        initial interval [a_0,b_0] is given by [a,b]. If f(m_n) == 0 for some\n",
    "        midpoint m_n = (a_n + b_n)/2, then the function returns this solution.\n",
    "        If all signs of values f(a_n), f(b_n) and f(m_n) are the same at any\n",
    "        iteration, the bisection method fails and return None.\n",
    "\n",
    "    Examples\n",
    "    --------\n",
    "    >>> f = lambda x: x**2 - x - 1\n",
    "    >>> bisection(f,1,2,25)\n",
    "    1.618033990263939\n",
    "    >>> f = lambda x: (2*x - 1)*(x - 3)\n",
    "    >>> bisection(f,0,1,10)\n",
    "    0.5\n",
    "    '''\n",
    "    if f(a)*f(b) >= 0:\n",
    "        print(\"Bisection method fails.\")\n",
    "        return None\n",
    "    a_n = a\n",
    "    b_n = b\n",
    "    for n in range(1,N+1):\n",
    "        m_n = (a_n + b_n)/2\n",
    "        f_m_n = f(m_n)\n",
    "        if f(a_n)*f_m_n < 0:\n",
    "            a_n = a_n\n",
    "            b_n = m_n\n",
    "        elif f(b_n)*f_m_n < 0:\n",
    "            a_n = m_n\n",
    "            b_n = b_n\n",
    "        elif f_m_n == 0:\n",
    "            print(\"Found exact solution.\")\n",
    "            return m_n\n",
    "        else:\n",
    "            print(\"Bisection method fails.\")\n",
    "            return None\n",
    "    return (a_n + b_n)/2\n",
    "# CHANGE HERE\n",
    "f = lambda x: x**3 - 20 #ganti fungsi disini\n",
    "bisection_answer = bisection(f,1 ,4,3) #bisection(fungsi,batas awal, akhir, iterasi)\n",
    "print(\"the final result is = \",bisection_answer)"
   ]
  },
  {
   "cell_type": "markdown",
   "metadata": {},
   "source": [
    "<b><h1> Brent's Method</h1> </b> "
   ]
  },
  {
   "cell_type": "code",
   "execution_count": 1,
   "metadata": {},
   "outputs": [
    {
     "name": "stdout",
     "output_type": "stream",
     "text": [
      "root is: 1.8392867552141607\n",
      "steps taken: 23\n"
     ]
    }
   ],
   "source": [
    "def brents(f, x0, x1, max_iter=50, tolerance=1e-5):\n",
    " \n",
    "    fx0 = f(x0)\n",
    "    fx1 = f(x1)\n",
    " \n",
    "    assert (fx0 * fx1) <= 0, \"Root not bracketed\" \n",
    " \n",
    "    if abs(fx0) < abs(fx1):\n",
    "        x0, x1 = x1, x0\n",
    "        fx0, fx1 = fx1, fx0\n",
    " \n",
    "    x2, fx2 = x0, fx0\n",
    " \n",
    "    mflag = True\n",
    "    steps_taken = 0\n",
    " \n",
    "    while steps_taken < max_iter and abs(x1-x0) > tolerance:\n",
    "        fx0 = f(x0)\n",
    "        fx1 = f(x1)\n",
    "        fx2 = f(x2)\n",
    " \n",
    "        if fx0 != fx2 and fx1 != fx2:\n",
    "            L0 = (x0 * fx1 * fx2) / ((fx0 - fx1) * (fx0 - fx2))\n",
    "            L1 = (x1 * fx0 * fx2) / ((fx1 - fx0) * (fx1 - fx2))\n",
    "            L2 = (x2 * fx1 * fx0) / ((fx2 - fx0) * (fx2 - fx1))\n",
    "            new = L0 + L1 + L2\n",
    " \n",
    "        else:\n",
    "            new = x1 - ( (fx1 * (x1 - x0)) / (fx1 - fx0) )\n",
    " \n",
    "        if ((new < ((3 * x0 + x1) / 4) or new > x1) or\n",
    "            (mflag == True and (abs(new - x1)) >= (abs(x1 - x2) / 2)) or\n",
    "            (mflag == False and (abs(new - x1)) >= (abs(x2 - d) / 2)) or\n",
    "            (mflag == True and (abs(x1 - x2)) < tolerance) or\n",
    "            (mflag == False and (abs(x2 - d)) < tolerance)):\n",
    "            new = (x0 + x1) / 2\n",
    "            mflag = True\n",
    " \n",
    "        else:\n",
    "            mflag = False\n",
    " \n",
    "        fnew = f(new)\n",
    "        d, x2 = x2, x1\n",
    " \n",
    "        if (fx0 * fnew) < 0:\n",
    "            x1 = new\n",
    "        else:\n",
    "            x0 = new\n",
    " \n",
    "        if abs(fx0) < abs(fx1):\n",
    "            x0, x1 = x1, x0\n",
    " \n",
    "        steps_taken += 1\n",
    " \n",
    "    return x1, steps_taken\n",
    "# CHANGE HERE\n",
    "f = lambda x: x**3 - x**2 - x - 1 #ganti soal\n",
    "\n",
    "root, steps = brents(f, 1 , 2, tolerance= 1e-7)\n",
    "print (\"root is:\", root)\n",
    "print (\"steps taken:\", steps)"
   ]
  },
  {
   "cell_type": "code",
   "execution_count": 1,
   "metadata": {},
   "outputs": [
    {
     "name": "stdout",
     "output_type": "stream",
     "text": [
      "root is: 0.5197860049135715\n",
      "steps taken: 22\n"
     ]
    }
   ],
   "source": [
    "def brents(f, x0, x1, max_iter=50, tolerance=1e-5):\n",
    " \n",
    "    fx0 = f(x0)\n",
    "    fx1 = f(x1)\n",
    " \n",
    "    assert (fx0 * fx1) <= 0, \"Root not bracketed\" \n",
    " \n",
    "    if abs(fx0) < abs(fx1):\n",
    "        x0, x1 = x1, x0\n",
    "        fx0, fx1 = fx1, fx0\n",
    " \n",
    "    x2, fx2 = x0, fx0\n",
    " \n",
    "    mflag = True\n",
    "    steps_taken = 0\n",
    " \n",
    "    while steps_taken < max_iter and abs(x1-x0) > tolerance:\n",
    "        fx0 = f(x0)\n",
    "        fx1 = f(x1)\n",
    "        fx2 = f(x2)\n",
    " \n",
    "        if fx0 != fx2 and fx1 != fx2:\n",
    "            L0 = (x0 * fx1 * fx2) / ((fx0 - fx1) * (fx0 - fx2))\n",
    "            L1 = (x1 * fx0 * fx2) / ((fx1 - fx0) * (fx1 - fx2))\n",
    "            L2 = (x2 * fx1 * fx0) / ((fx2 - fx0) * (fx2 - fx1))\n",
    "            new = L0 + L1 + L2\n",
    " \n",
    "        else:\n",
    "            new = x1 - ( (fx1 * (x1 - x0)) / (fx1 - fx0) )\n",
    " \n",
    "        if ((new < ((3 * x0 + x1) / 4) or new > x1) or\n",
    "            (mflag == True and (abs(new - x1)) >= (abs(x1 - x2) / 2)) or\n",
    "            (mflag == False and (abs(new - x1)) >= (abs(x2 - d) / 2)) or\n",
    "            (mflag == True and (abs(x1 - x2)) < tolerance) or\n",
    "            (mflag == False and (abs(x2 - d)) < tolerance)):\n",
    "            new = (x0 + x1) / 2\n",
    "            mflag = True\n",
    " \n",
    "        else:\n",
    "            mflag = False\n",
    " \n",
    "        fnew = f(new)\n",
    "        d, x2 = x2, x1\n",
    " \n",
    "        if (fx0 * fnew) < 0:\n",
    "            x1 = new\n",
    "        else:\n",
    "            x0 = new\n",
    " \n",
    "        if abs(fx0) < abs(fx1):\n",
    "            x0, x1 = x1, x0\n",
    " \n",
    "        steps_taken += 1\n",
    " \n",
    "    return x1, steps_taken\n",
    "# CHANGE HERE\n",
    "f = lambda x: 63.5688*x**3 - 34.37463*x**2 + 0.36 #ganti soal\n",
    "\n",
    "root, steps = brents(f, -20 , 20, tolerance= 1e-7)\n",
    "print (\"root is:\", root)\n",
    "print (\"steps taken:\", steps)"
   ]
  },
  {
   "cell_type": "markdown",
   "metadata": {},
   "source": [
    "<b><h1> Derivative</h1> </b> "
   ]
  },
  {
   "cell_type": "code",
   "execution_count": 16,
   "metadata": {},
   "outputs": [
    {
     "data": {
      "text/plain": [
       "4.75"
      ]
     },
     "execution_count": 16,
     "metadata": {},
     "output_type": "execute_result"
    }
   ],
   "source": [
    "# CHANGE H HERE\n",
    "def derivative(f,a,method='central',h=0.01):\n",
    "    '''Compute the difference formula for f'(a) with step size h.\n",
    "\n",
    "    Parameters\n",
    "    ----------\n",
    "    f : function\n",
    "        Vectorized function of one variable\n",
    "    a : number\n",
    "        Compute derivative at x = a\n",
    "    method : string\n",
    "        Difference formula: 'forward', 'backward' or 'central'\n",
    "    h : number\n",
    "        Step size in difference formula\n",
    "\n",
    "    Returns\n",
    "    -------\n",
    "    float\n",
    "        Difference formula:\n",
    "            central: f(a+h) - f(a-h))/2h\n",
    "            forward: f(a+h) - f(a))/h\n",
    "            backward: f(a) - f(a-h))/h            \n",
    "    '''\n",
    "    if method == 'central':\n",
    "        return (f(a + h) - f(a - h))/(2*h)\n",
    "    elif method == 'forward':\n",
    "        return (f(a + h) - f(a))/h\n",
    "    elif method == 'backward':\n",
    "        return (f(a) - f(a - h))/h\n",
    "    else:\n",
    "        raise ValueError(\"Method must be 'central', 'forward' or 'backward'.\")\n",
    "\n",
    "# CHANGE F AND A HERE\n",
    "f = lambda x: ((x**3)) #ganti soal disini\n",
    "derivative(f , 1 , method = 'forward', h = 0.5 ) #ganti method disini"
   ]
  },
  {
   "cell_type": "markdown",
   "metadata": {},
   "source": [
    "<h1><b> Richardson but unknown method"
   ]
  },
  {
   "cell_type": "code",
   "execution_count": 19,
   "metadata": {},
   "outputs": [
    {
     "data": {
      "text/plain": [
       "array([[0.80471304]])"
      ]
     },
     "execution_count": 19,
     "metadata": {},
     "output_type": "execute_result"
    }
   ],
   "source": [
    "import numpy\n",
    "\n",
    "def richardson( f, x, n, h ):\n",
    "    \"\"\"Richardson's Extrapolation to approximate  f'(x) at a particular x.\n",
    "\n",
    "    USAGE:\n",
    "\td = richardson( f, x, n, h )\n",
    "\n",
    "    INPUT:\n",
    "\tf\t- function to find derivative of\n",
    "\tx\t- value of x to find derivative at\n",
    "\tn\t- number of levels of extrapolation\n",
    "\th\t- initial stepsize\n",
    "\n",
    "    OUTPUT:\n",
    "        numpy float array -  two-dimensional array of extrapolation values.\n",
    "                             The [n,n] value of this array should be the\n",
    "                             most accurate estimate of f'(x).\n",
    "\n",
    "    NOTES:                             \n",
    "        Based on an algorithm in \"Numerical Mathematics and Computing\"\n",
    "        4th Edition, by Cheney and Kincaid, Brooks-Cole, 1999.\n",
    "\n",
    "    AUTHOR:\n",
    "        Jonathan R. Senning <jonathan.senning@gordon.edu>\n",
    "        Gordon College\n",
    "        February 9, 1999\n",
    "        Converted ty Python August 2008\n",
    "    \"\"\"\n",
    "\n",
    "    # d[n,n] will contain the most accurate approximation to f'(x).\n",
    "\n",
    "    d = numpy.array( [[0] * (n + 1)] * (n + 1), float )\n",
    "\n",
    "    for i in range( n + 1 ):\n",
    "        d[i,0] = 0.5 * ( f( x + h ) - f( x - h ) ) / h\n",
    "\n",
    "        powerOf4 = 1  # values of 4^j\n",
    "        for j in range( 1, i + 1 ):\n",
    "            powerOf4 = 4 * powerOf4\n",
    "            d[i,j] = d[i,j-1] + ( d[i,j-1] - d[i-1,j-1] ) / ( powerOf4 - 1 )\n",
    "\n",
    "        h = 0.5 * h\n",
    "\n",
    "    return d\n",
    "\n",
    "f = lambda x: ((5*x*np.exp(-2*x))) #ganti soal disini\n",
    "richardson(f , 0.35 , 0 , 0.125 )"
   ]
  },
  {
   "cell_type": "markdown",
   "metadata": {},
   "source": [
    "<h1><b> Using sin cos tan in python with degree (not rad) "
   ]
  },
  {
   "cell_type": "code",
   "execution_count": 4,
   "metadata": {},
   "outputs": [
    {
     "data": {
      "text/plain": [
       "0.49999999999999994"
      ]
     },
     "execution_count": 4,
     "metadata": {},
     "output_type": "execute_result"
    }
   ],
   "source": [
    "import numpy\n",
    "numpy.sin(numpy.deg2rad(30))"
   ]
  },
  {
   "cell_type": "markdown",
   "metadata": {},
   "source": [
    "# Gauss Scipy"
   ]
  },
  {
   "cell_type": "code",
   "execution_count": 4,
   "metadata": {},
   "outputs": [
    {
     "ename": "AttributeError",
     "evalue": "module 'numpy' has no attribute 'sindeg'",
     "output_type": "error",
     "traceback": [
      "\u001b[1;31m---------------------------------------------------------------------------\u001b[0m",
      "\u001b[1;31mAttributeError\u001b[0m                            Traceback (most recent call last)",
      "\u001b[1;32m<ipython-input-4-5b5a13cff4c0>\u001b[0m in \u001b[0;36m<module>\u001b[1;34m\u001b[0m\n\u001b[0;32m      1\u001b[0m \u001b[1;32mimport\u001b[0m \u001b[0mnumpy\u001b[0m\u001b[1;33m\u001b[0m\u001b[1;33m\u001b[0m\u001b[0m\n\u001b[1;32m----> 2\u001b[1;33m \u001b[0mnumpy\u001b[0m\u001b[1;33m.\u001b[0m\u001b[0msindeg\u001b[0m\u001b[1;33m(\u001b[0m\u001b[1;36m30\u001b[0m\u001b[1;33m)\u001b[0m\u001b[1;33m\u001b[0m\u001b[1;33m\u001b[0m\u001b[0m\n\u001b[0m",
      "\u001b[1;31mAttributeError\u001b[0m: module 'numpy' has no attribute 'sindeg'"
     ]
    }
   ],
   "source": [
    "import numpy\n",
    "numpy.sin(30)"
   ]
  },
  {
   "cell_type": "code",
   "execution_count": 3,
   "metadata": {},
   "outputs": [
    {
     "name": "stdout",
     "output_type": "stream",
     "text": [
      "X1,X2,X3 = [ 1.  2. -2. -1.  3.]\n",
      "A*x-b harus [0 0 0]\n",
      "A*x-b =  [-8.8817842e-16  0.0000000e+00 -4.4408921e-16 -4.4408921e-16\n",
      " -4.4408921e-16]\n"
     ]
    }
   ],
   "source": [
    "from numpy import array\n",
    "from scipy.linalg import solve\n",
    "import numpy as np\n",
    "\n",
    "def gaussElimination(A,b):\n",
    "    #A = array([[4,-2,1],[-2,4,-2],[1,-2,4]])\n",
    "    #b = array([11,-16,17])\n",
    "    x = solve(A, b)\n",
    "    print(\"X1,X2,X3 =\",x)\n",
    "\n",
    "    check = np.dot(A, x) - b\n",
    "    print(\"A*x-b harus [0 0 0]\")\n",
    "    print(\"A*x-b = \", check)\n",
    "    return x,check\n",
    "\n",
    "A = array([[1, -2, 1, -3, 1], [2, 1, -3, 1, 2], [-1, -1, -1, -1, -1], [1, 1, 1, -1, -1], [2, -2, 1, -1, 1]])\n",
    "b = array([1, 15, -3, -1, 0])\n",
    "\n",
    "x, check = gaussElimination(A, b)"
   ]
  },
  {
   "cell_type": "markdown",
   "metadata": {},
   "source": [
    "# Derivative"
   ]
  },
  {
   "cell_type": "code",
   "execution_count": 13,
   "metadata": {},
   "outputs": [
    {
     "name": "stdout",
     "output_type": "stream",
     "text": [
      "using forward method, predicted f'(x): 2.880400000000094\n",
      "using backward method, predicted f'(x): 2.6204000000000782\n",
      "using middle method, predicted f'(x): 2.750400000000086\n",
      "actual f'(x): 2.75\n"
     ]
    }
   ],
   "source": [
    "#real function\n",
    "def f(x):\n",
    "    y = x**3 + 2*x**2 - 10*x + 5 #insert eq here\n",
    "    return y\n",
    "\n",
    "#Differential eq\n",
    "def actual_diff_f(x):\n",
    "    y = 3*x**2 + 4*x - 10 #insert differential equation here\n",
    "    return y\n",
    "\n",
    "#Forward\n",
    "def f_Forward(x,h):\n",
    "    fh = f(x+h)\n",
    "    fx = f(x)\n",
    "    eq = (fh-fx)/h\n",
    "    return eq\n",
    "\n",
    "#Backward\n",
    "def f_Backward(x,h):\n",
    "    fh = f(x-h)\n",
    "    fx = f(x)\n",
    "    eq = (fx-fh)/h\n",
    "    return eq\n",
    "\n",
    "#Middle\n",
    "def f_Middle(x,h):\n",
    "    fh = f(x+h)\n",
    "    fx = f(x-h)\n",
    "    eq = (fh-fx)/(2*h)\n",
    "    return eq\n",
    "\n",
    "#Data\n",
    "x= 1.5\n",
    "h=0.02\n",
    "\n",
    "Forward = f_Forward(x,h)\n",
    "print(\"using forward method, predicted f'(x):\",Forward)\n",
    "Backward = f_Backward(x,h)\n",
    "print(\"using backward method, predicted f'(x):\",Backward)\n",
    "Middle = f_Middle(x,h)\n",
    "print(\"using middle method, predicted f'(x):\",Middle)\n",
    "Actual = actual_diff_f(x)\n",
    "print(\"actual f'(x):\",Actual)"
   ]
  },
  {
   "cell_type": "code",
   "execution_count": 14,
   "metadata": {},
   "outputs": [
    {
     "name": "stdout",
     "output_type": "stream",
     "text": [
      "using forward method, predicted f'(x): 32.613928000000136\n",
      "using backward method, predicted f'(x): 31.636311999999833\n",
      "using middle method, predicted f'(x): 32.12511999999998\n",
      "actual f'(x): 32.12199999999999\n"
     ]
    }
   ],
   "source": [
    "#real function\n",
    "def f(x):\n",
    "    y = x**4 + x**3 + 2*x**2 - 3*x + 10 #insert eq here\n",
    "    return y\n",
    "\n",
    "#Differential eq\n",
    "def actual_diff_f(x):\n",
    "    y = 4*x**3 + 3*x**2 + 4*x - 3 #insert differential equation here\n",
    "    return y\n",
    "\n",
    "#Forward\n",
    "def f_Forward(x,h):\n",
    "    fh = f(x+h)\n",
    "    fx = f(x)\n",
    "    eq = (fh-fx)/h\n",
    "    return eq\n",
    "\n",
    "#Backward\n",
    "def f_Backward(x,h):\n",
    "    fh = f(x-h)\n",
    "    fx = f(x)\n",
    "    eq = (fx-fh)/h\n",
    "    return eq\n",
    "\n",
    "#Middle\n",
    "def f_Middle(x,h):\n",
    "    fh = f(x+h)\n",
    "    fx = f(x-h)\n",
    "    eq = (fh-fx)/(2*h)\n",
    "    return eq\n",
    "\n",
    "#Data\n",
    "x= 1.7\n",
    "h= 0.02\n",
    "\n",
    "Forward = f_Forward(x,h)\n",
    "print(\"using forward method, predicted f'(x):\",Forward)\n",
    "Backward = f_Backward(x,h)\n",
    "print(\"using backward method, predicted f'(x):\",Backward)\n",
    "Middle = f_Middle(x,h)\n",
    "print(\"using middle method, predicted f'(x):\",Middle)\n",
    "Actual = actual_diff_f(x)\n",
    "print(\"actual f'(x):\",Actual)"
   ]
  },
  {
   "cell_type": "code",
   "execution_count": null,
   "metadata": {},
   "outputs": [],
   "source": []
  }
 ],
 "metadata": {
  "kernelspec": {
   "display_name": "Python 3",
   "language": "python",
   "name": "python3"
  },
  "language_info": {
   "codemirror_mode": {
    "name": "ipython",
    "version": 3
   },
   "file_extension": ".py",
   "mimetype": "text/x-python",
   "name": "python",
   "nbconvert_exporter": "python",
   "pygments_lexer": "ipython3",
   "version": "3.6.8"
  }
 },
 "nbformat": 4,
 "nbformat_minor": 2
}
